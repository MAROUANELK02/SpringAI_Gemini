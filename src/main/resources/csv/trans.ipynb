{
 "cells": [
  {
   "cell_type": "code",
   "execution_count": 7,
   "metadata": {},
   "outputs": [
    {
     "name": "stdout",
     "output_type": "stream",
     "text": [
      "Le fichier PDF a été créé avec succès.\n"
     ]
    }
   ],
   "source": [
    "from reportlab.lib.pagesizes import letter\n",
    "from reportlab.pdfgen import canvas\n",
    "from reportlab.lib import colors\n",
    "\n",
    "# Chemin du fichier CSV et du fichier PDF de sortie\n",
    "csv_file_path = 'jobs_companies.csv'\n",
    "pdf_file_path = 'jobs_companies.pdf'\n",
    "\n",
    "# Créer un objet canvas pour dessiner le PDF\n",
    "c = canvas.Canvas(pdf_file_path, pagesize=letter)\n",
    "width, height = letter  # Largeur et hauteur de la page\n",
    "\n",
    "# Définir la position de départ pour l'écriture du texte\n",
    "x = 50  # Marge gauche\n",
    "y = height - 50  # Marge supérieure\n",
    "\n",
    "# Lire et écrire les données du CSV dans le PDF\n",
    "with open(csv_file_path, 'r') as csvfile:\n",
    "    for line in csvfile:\n",
    "        # Écrire la ligne actuelle dans le PDF\n",
    "        c.drawString(x, y, line.strip())\n",
    "        # Déplacer vers le bas pour la prochaine ligne\n",
    "        y -= 15\n",
    "        # Vérifier si nous avons atteint le bas de la page\n",
    "        if y < 50:\n",
    "            # Créer une nouvelle page et réinitialiser y\n",
    "            c.showPage()\n",
    "            y = height - 50\n",
    "\n",
    "# Sauvegarder le PDF\n",
    "c.save()\n",
    "\n",
    "print(\"Le fichier PDF a été créé avec succès.\")"
   ]
  }
 ],
 "metadata": {
  "kernelspec": {
   "display_name": "Python 3",
   "language": "python",
   "name": "python3"
  },
  "language_info": {
   "codemirror_mode": {
    "name": "ipython",
    "version": 3
   },
   "file_extension": ".py",
   "mimetype": "text/x-python",
   "name": "python",
   "nbconvert_exporter": "python",
   "pygments_lexer": "ipython3",
   "version": "3.11.9"
  }
 },
 "nbformat": 4,
 "nbformat_minor": 2
}
